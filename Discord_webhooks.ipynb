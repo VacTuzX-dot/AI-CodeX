{
  "nbformat": 4,
  "nbformat_minor": 0,
  "metadata": {
    "colab": {
      "provenance": [],
      "include_colab_link": true
    },
    "kernelspec": {
      "name": "python3",
      "display_name": "Python 3"
    },
    "language_info": {
      "name": "python"
    }
  },
  "cells": [
    {
      "cell_type": "markdown",
      "metadata": {
        "id": "view-in-github",
        "colab_type": "text"
      },
      "source": [
        "<a href=\"https://colab.research.google.com/github/VacTuzX-dot/AI-CodeX/blob/main/Discord_webhooks.ipynb\" target=\"_parent\"><img src=\"https://colab.research.google.com/assets/colab-badge.svg\" alt=\"Open In Colab\"/></a>"
      ]
    },
    {
      "cell_type": "code",
      "execution_count": 1,
      "metadata": {
        "colab": {
          "base_uri": "https://localhost:8080/"
        },
        "id": "1xTJ8EbvOzAj",
        "outputId": "cda8fbd3-1e01-4112-f65b-bb0857e18b9f"
      },
      "outputs": [
        {
          "output_type": "stream",
          "name": "stdout",
          "text": [
            "✅ ส่งข้อความสำเร็จ!\n"
          ]
        }
      ],
      "source": [
        "import requests\n",
        "\n",
        "WEBHOOK_URL = \"https://discord.com/api/webhooks/1347990508080861326/s7-HR8ifTmn93MxlVw3ngCCeEWKDXveivdNRQsveRWVEYHhK6Hn_XXHqOUInug6USPTz\"  # ใส่ Webhook URL\n",
        "\n",
        "data = {\n",
        "    \"content\": \"Hello! อัปเดตข้อมูลจาก Python 🖥️\"\n",
        "}\n",
        "\n",
        "response = requests.post(WEBHOOK_URL, json=data)\n",
        "\n",
        "if response.status_code == 204:\n",
        "    print(\"✅ ส่งข้อความสำเร็จ!\")\n",
        "else:\n",
        "    print(f\"❌ มีปัญหา: {response.status_code}\")"
      ]
    }
  ]
}